```json
{
 "cells": [
  {
   "cell_type": "markdown",
   "metadata": {},
   "source": [
    "# Tournament Scheduler Project"
   ]
  },
  {
   "cell_type": "markdown",
   "metadata": {},
   "source": [
    "## Data Files"
   ]
  },
  {
   "cell_type": "code",
   "execution_count": null,
   "metadata": {
    "tags": []
   },
   "outputs": [],
   "source": [
    "# teams.csv\n",
    "import pandas as pd\n",
    "from io import StringIO\n",
    "\n",
    "teams_csv = \"\"\"TeamID,TeamName\n",
    "1,Team Alpha\n",
    "2,Team Beta\n",
    "3,Team Gamma\n",
    "4,Team Delta\n",
    "5,Team Epsilon\n",
    "6,Team Zeta\n",
    "7,Team Eta\n",
    "8,Team Theta\n",
    "9,Team Iota\n",
    "10,Team Kappa\"\"\"\n",
    "\n",
    "teams = pd.read_csv(StringIO(teams_csv))\n",
    "print(teams)"
   ]
  },
  {
   "cell_type": "code",
   "execution_count": null,
   "metadata": {
    "tags": []
   },
   "outputs": [],
   "source": [
    "# venues.csv\n",
    "venues_csv = \"\"\"VenueID,VenueName,Capacity,AvailableDays\n",
    "1,Stadium A,5000,\"Monday,Wednesday,Friday\"\n",
    "2,Stadium B,3000,\"Tuesday,Thursday,Saturday\"\n",
    "3,Stadium C,4000,\"Monday,Tuesday,Friday\"\"\"\n",
    "\n",
    "venues = pd.read_csv(StringIO(venues_csv))\n",
    "print(venues)"
   ]
  },
  {
   "cell_type": "code",
   "execution_count": null,
   "metadata": {
    "tags": []
   },
   "outputs": [],
   "source": [
    "# constraints.json\n",
    "import json\n",
    "\n",
    "constraints_json = {\n",
    "    \"rest_periods\": {\n",
    "        \"minimum_hours\": 24\n",
    "    },\n",
    "    \"time_slots\": [\n",
    "        \"09:00-11:00\",\n",
    "        \"11:30-13:30\",\n",
    "        \"14:00-16:00\",\n",
    "        \"16:30-18:30\",\n",
    "        \"19:00-21:00\"\n",
    "    ],\n",
    "    \"venue_availability\": {\n",
    "        \"1\": [\"Monday\", \"Wednesday\", \"Friday\"],\n",
    "        \"2\": [\"Tuesday\", \"Thursday\", \"Saturday\"],\n",
    "        \"3\": [\"Monday\", \"Tuesday\", \"Friday\"]\n",
    "    },\n",
    "    \"max_consecutive_matches\": 2,\n",
    "    \"team_constraints\": {\n",
    "        \"avoid_repeats\": true,\n",
    "        \"max_matches_per_day\": 1\n",
    "    }\n",
    "}\n",
    "\n",
    "print(json.dumps(constraints_json, indent=4))"
   ]
  },
  {
   "cell_type": "markdown",
   "metadata": {},
   "source": [
    "## Core Files"
   ]
  },
  {
   "cell_type": "code",
   "execution_count": null,
   "metadata": {
    "tags": []
   },
   "outputs": [],
   "source": [
    "# population.py\n",
    "import numpy as np\n",
    "\n",
    "class Schedule:\n",
    "    def __init__(self, teams, venues, constraints):\n",
    "        self.teams = teams\n",
    "        self.venues = venues\n",
    "        self.constraints = constraints\n",
    "        self.schedule = self._initialize_schedule()\n",
    "\n",
    "    def _initialize_schedule(self):\n",
    "        num_matches = len(self.teams) * (len(self.teams) - 1) // 2\n",
    "        return np.random.permutation(num_matches)\n",
    "\n",
    "    def __repr__(self):\n",
    "        return f\"Schedule({self.schedule})\""
   ]
  },
  {
   "cell_type": "code",
   "execution_count": null,
   "metadata": {},
   "outputs": [],
   "source": [
    "# fitness.py\n",
    "def count_venue_conflicts(schedule, constraints):\n",
    "    venue_availability = constraints.get(\"venue_availability\", {})\n",
    "    conflicts = 0\n",
    "    venue_day_map = {}\n",
    "    for match in schedule:\n",
    "        _, _, venue_id, day, timeslot = match\n",
    "        if (venue_id, day) not in venue_day_map:\n",
    "            venue_day_map[(venue_id, day)] = []\n",
    "        venue_day_map[(venue_id, day)].append(timeslot)\n",
    "\n",
    "    for (venue_id, day), timeslots in venue_day_map.items():\n",
    "        if day not in venue_availability.get(str(venue_id), []):\n",
    "            conflicts += len(timeslots)\n",
    "        else:\n",
    "            timeslot_counts = {}\n",
    "            for timeslot in timeslots:\n",
    "                if timeslot not in timeslot_counts:\n",
    "                    timeslot_counts[timeslot] = 0\n",
    "                timeslot_counts[timeslot] += 1\n",
    "            conflicts += sum(count - 1 for count in timeslot_counts.values() if count > 1)\n",
    "\n",
    "    return conflicts"
   ]
  },
  {
   "cell_type": "code",
   "execution_count": null,
   "metadata": {},
   "outputs": [],
   "source": [
    "# operators.py\n",
    "def crossover(parent1, parent2):\n",
    "    point = np.random.randint(1, len(parent1.schedule) - 1)\n",
    "    child1 = np.concatenate((parent1.schedule[:point], parent2.schedule[point:]))\n",
    "    child2 = np.concatenate((parent2.schedule[:point], parent1.schedule[point:]))\n",
    "    return child1, child2\n",
    "\n",
    "def mutate(schedule, mutation_rate=0.1):\n",
    "    for i in range(len(schedule)):\n",
    "        if np.random.rand() < mutation_rate:\n",
    "            j = np.random.randint(0, len(schedule))\n",
    "            schedule[i], schedule[j] = schedule[j], schedule[i]\n",
    "    return schedule"
   ]
  },
  {
   "cell_type": "code",
   "execution_count": null,
   "metadata": {},
   "outputs": [],
   "source": [
    "# scheduler.py\n",
    "from src.ga.population import Schedule\n",
    "from src.ga.fitness import evaluate_fitness\n",
    "from src.ga.operators import crossover, mutate\n",
    "\n",
    "def genetic_algorithm(teams, venues, constraints, generations=100, population_size=50):\n",
    "    population = [Schedule(teams, venues, constraints) for _ in range(population_size)]\n",
    "    for generation in range(generations):\n",
    "        fitness_scores = [evaluate_fitness(ind.schedule, constraints) for ind in population]\n",
    "        selected = select_parents(population, fitness_scores)\n",
    "        new_population = []\n",
    "        for i in range(0, len(selected), 2):\n",
    "            parent1, parent2 = selected[i], selected[i+1]\n",
    "            child1, child2 = crossover(parent1, parent2)\n",
    "            new_population.extend([child1, child2])\n",
    "        population = [mutate(ind.schedule) for ind in new_population]\n",
    "        best_fitness = max(fitness_scores)\n",
    "        print(f\"Generation {generation}: Best Fitness = {best_fitness}\")\n",
    "    return population"
   ]
  },
  {
   "cell_type": "markdown",
   "metadata": {},
   "source": [
    "## Entry Point"
   ]
  },
  {
   "cell_type": "code",
   "execution_count": null,
   "metadata": {},
   "outputs": [],
   "source": [
    "# main.py\n",
    "from src.ga.scheduler import genetic_algorithm\n",
    "from src.utils.parser import parse_input_data\n",
    "from src.utils.visualizer import visualize_schedule\n",
    "\n",
    "if __name__ == \"__main__\":\n",
    "    teams, venues, constraints = parse_input_data(\"data/teams.csv\", \"data/venues.csv\", \"data/constraints.json\")\n",
    "    final_population = genetic_algorithm(teams, venues, constraints)\n",
    "    best_schedule = max(final_population, key=lambda s: evaluate_fitness(s.schedule, constraints))\n",
    "    visualize_schedule(best_schedule)"
   ]
  }
 ]
}
```