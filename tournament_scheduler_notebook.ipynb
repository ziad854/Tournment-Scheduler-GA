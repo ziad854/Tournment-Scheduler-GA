{
 "cells": [
  {
   "cell_type": "markdown",
   "metadata": {},
   "source": [
    "# Tournament Scheduler Project"
   ]
  },
  {
   "cell_type": "markdown",
   "metadata": {},
   "source": [
    "## Data Files"
   ]
  },
  {
   "cell_type": "code",
   "execution_count": 1,
   "metadata": {
    "tags": []
   },
   "outputs": [
    {
     "name": "stdout",
     "output_type": "stream",
     "text": [
      "   TeamID      TeamName\n",
      "0       1    Team Alpha\n",
      "1       2     Team Beta\n",
      "2       3    Team Gamma\n",
      "3       4    Team Delta\n",
      "4       5  Team Epsilon\n",
      "5       6     Team Zeta\n",
      "6       7      Team Eta\n",
      "7       8    Team Theta\n",
      "8       9     Team Iota\n",
      "9      10    Team Kappa\n"
     ]
    }
   ],
   "source": [
    "# teams.csv\n",
    "import pandas as pd\n",
    "from io import StringIO\n",
    "\n",
    "teams_csv = \"\"\"TeamID,TeamName\n",
    "1,Team Alpha\n",
    "2,Team Beta\n",
    "3,Team Gamma\n",
    "4,Team Delta\n",
    "5,Team Epsilon\n",
    "6,Team Zeta\n",
    "7,Team Eta\n",
    "8,Team Theta\n",
    "9,Team Iota\n",
    "10,Team Kappa\"\"\"\n",
    "\n",
    "teams = pd.read_csv(StringIO(teams_csv))\n",
    "print(teams)"
   ]
  },
  {
   "cell_type": "code",
   "execution_count": 3,
   "metadata": {
    "tags": []
   },
   "outputs": [
    {
     "name": "stdout",
     "output_type": "stream",
     "text": [
      "   VenueID  VenueName  Capacity              AvailableDays\n",
      "0        1  Stadium A      5000    Monday,Wednesday,Friday\n",
      "1        2  Stadium B      3000  Tuesday,Thursday,Saturday\n",
      "2        3  Stadium C      4000     Monday,Tuesday,Friday \n"
     ]
    }
   ],
   "source": [
    "# venues.csv\n",
    "venues_csv = \"\"\"VenueID,VenueName,Capacity,AvailableDays\n",
    "1,Stadium A,5000,\"Monday,Wednesday,Friday\"\n",
    "2,Stadium B,3000,\"Tuesday,Thursday,Saturday\"\n",
    "3,Stadium C,4000,\"Monday,Tuesday,Friday\" \"\"\"\n",
    "\n",
    "venues = pd.read_csv(StringIO(venues_csv))\n",
    "print(venues)"
   ]
  },
  {
   "cell_type": "code",
   "execution_count": 5,
   "metadata": {
    "tags": []
   },
   "outputs": [
    {
     "name": "stdout",
     "output_type": "stream",
     "text": [
      "{\n",
      "    \"rest_periods\": {\n",
      "        \"minimum_hours\": 24\n",
      "    },\n",
      "    \"time_slots\": [\n",
      "        \"09:00-11:00\",\n",
      "        \"11:30-13:30\",\n",
      "        \"14:00-16:00\",\n",
      "        \"16:30-18:30\",\n",
      "        \"19:00-21:00\"\n",
      "    ],\n",
      "    \"venue_availability\": {\n",
      "        \"1\": [\n",
      "            \"Monday\",\n",
      "            \"Wednesday\",\n",
      "            \"Friday\"\n",
      "        ],\n",
      "        \"2\": [\n",
      "            \"Tuesday\",\n",
      "            \"Thursday\",\n",
      "            \"Saturday\"\n",
      "        ],\n",
      "        \"3\": [\n",
      "            \"Monday\",\n",
      "            \"Tuesday\",\n",
      "            \"Friday\"\n",
      "        ]\n",
      "    },\n",
      "    \"max_consecutive_matches\": 2,\n",
      "    \"team_constraints\": {\n",
      "        \"avoid_repeats\": true,\n",
      "        \"max_matches_per_day\": 1\n",
      "    }\n",
      "}\n"
     ]
    }
   ],
   "source": [
    "# constraints.json\n",
    "import json\n",
    "\n",
    "constraints_json = {\n",
    "    \"rest_periods\": {\n",
    "        \"minimum_hours\": 24\n",
    "    },\n",
    "    \"time_slots\": [\n",
    "        \"09:00-11:00\",\n",
    "        \"11:30-13:30\",\n",
    "        \"14:00-16:00\",\n",
    "        \"16:30-18:30\",\n",
    "        \"19:00-21:00\"\n",
    "    ],\n",
    "    \"venue_availability\": {\n",
    "        \"1\": [\"Monday\", \"Wednesday\", \"Friday\"],\n",
    "        \"2\": [\"Tuesday\", \"Thursday\", \"Saturday\"],\n",
    "        \"3\": [\"Monday\", \"Tuesday\", \"Friday\"]\n",
    "    },\n",
    "    \"max_consecutive_matches\": 2,\n",
    "    \"team_constraints\": {\n",
    "        \"avoid_repeats\": True,\n",
    "        \"max_matches_per_day\": 1\n",
    "    }\n",
    "}\n",
    "\n",
    "print(json.dumps(constraints_json, indent=4))"
   ]
  },
  {
   "cell_type": "markdown",
   "metadata": {},
   "source": [
    "## Core Files"
   ]
  },
  {
   "cell_type": "code",
   "execution_count": 17,
   "metadata": {
    "tags": []
   },
   "outputs": [],
   "source": [
    "# population.py\n",
    "import numpy as np\n",
    "\n",
    "class Schedule:\n",
    "    def __init__(self, teams, venues, constraints):\n",
    "        self.teams = teams\n",
    "        self.venues = venues\n",
    "        self.constraints = constraints\n",
    "        self.schedule = self._initialize_schedule()\n",
    "\n",
    "    def _initialize_schedule(self):\n",
    "        num_matches = len(self.teams) * (len(self.teams) - 1) // 2\n",
    "        return np.random.permutation(num_matches)\n",
    "\n",
    "    def __repr__(self):\n",
    "        return f\"Schedule({self.schedule})\""
   ]
  },
  {
   "cell_type": "code",
   "execution_count": 7,
   "metadata": {},
   "outputs": [],
   "source": [
    "# fitness.py\n",
    "def count_venue_conflicts(schedule, constraints):\n",
    "    venue_availability = constraints.get(\"venue_availability\", {})\n",
    "    conflicts = 0\n",
    "    venue_day_map = {}\n",
    "    for match in schedule:\n",
    "        _, _, venue_id, day, timeslot = match\n",
    "        if (venue_id, day) not in venue_day_map:\n",
    "            venue_day_map[(venue_id, day)] = []\n",
    "        venue_day_map[(venue_id, day)].append(timeslot)\n",
    "\n",
    "    for (venue_id, day), timeslots in venue_day_map.items():\n",
    "        if day not in venue_availability.get(str(venue_id), []):\n",
    "            conflicts += len(timeslots)\n",
    "        else:\n",
    "            timeslot_counts = {}\n",
    "            for timeslot in timeslots:\n",
    "                if timeslot not in timeslot_counts:\n",
    "                    timeslot_counts[timeslot] = 0\n",
    "                timeslot_counts[timeslot] += 1\n",
    "            conflicts += sum(count - 1 for count in timeslot_counts.values() if count > 1)\n",
    "\n",
    "    return conflicts"
   ]
  },
  {
   "cell_type": "code",
   "execution_count": 8,
   "metadata": {},
   "outputs": [],
   "source": [
    "# operators.py\n",
    "def crossover(parent1, parent2):\n",
    "    point = np.random.randint(1, len(parent1.schedule) - 1)\n",
    "    child1 = np.concatenate((parent1.schedule[:point], parent2.schedule[point:]))\n",
    "    child2 = np.concatenate((parent2.schedule[:point], parent1.schedule[point:]))\n",
    "    return child1, child2\n",
    "\n",
    "def mutate(schedule, mutation_rate=0.1):\n",
    "    for i in range(len(schedule)):\n",
    "        if np.random.rand() < mutation_rate:\n",
    "            j = np.random.randint(0, len(schedule))\n",
    "            schedule[i], schedule[j] = schedule[j], schedule[i]\n",
    "    return schedule"
   ]
  },
  {
   "cell_type": "code",
   "execution_count": 15,
   "metadata": {},
   "outputs": [],
   "source": [
    "# scheduler.py\n",
    "from src.ga.population import Schedule\n",
    "from src.ga.fitness import evaluate_fitness\n",
    "from src.ga.operators import crossover, mutate\n",
    "\n",
    "def genetic_algorithm(teams, venues, constraints, generations=100, population_size=50):\n",
    "    population = [Schedule(teams, venues, constraints) for _ in range(population_size)]\n",
    "    for generation in range(generations):\n",
    "        fitness_scores = [evaluate_fitness(ind.schedule, constraints) for ind in population]\n",
    "        selected = select_parents(population, fitness_scores)\n",
    "        new_population = []\n",
    "        for i in range(0, len(selected), 2):\n",
    "            parent1, parent2 = selected[i], selected[i+1]\n",
    "            child1, child2 = crossover(parent1, parent2)\n",
    "            new_population.extend([child1, child2])\n",
    "        population = [mutate(ind.schedule) for ind in new_population]\n",
    "        best_fitness = max(fitness_scores)\n",
    "        print(f\"Generation {generation}: Best Fitness = {best_fitness}\")\n",
    "    return population"
   ]
  },
  {
   "cell_type": "markdown",
   "metadata": {},
   "source": [
    "## Entry Point"
   ]
  },
  {
   "cell_type": "code",
   "execution_count": null,
   "metadata": {},
   "outputs": [
    {
     "ename": "TypeError",
     "evalue": "cannot unpack non-iterable numpy.int64 object",
     "output_type": "error",
     "traceback": [
      "\u001b[0;31m---------------------------------------------------------------------------\u001b[0m",
      "\u001b[0;31mTypeError\u001b[0m                                 Traceback (most recent call last)",
      "Cell \u001b[0;32mIn[16], line 8\u001b[0m\n\u001b[1;32m      6\u001b[0m \u001b[38;5;28;01mif\u001b[39;00m \u001b[38;5;18m__name__\u001b[39m \u001b[38;5;241m==\u001b[39m \u001b[38;5;124m\"\u001b[39m\u001b[38;5;124m__main__\u001b[39m\u001b[38;5;124m\"\u001b[39m:\n\u001b[1;32m      7\u001b[0m     teams, venues, constraints \u001b[38;5;241m=\u001b[39m parse_input_data(\u001b[38;5;124m\"\u001b[39m\u001b[38;5;124mdata/teams.csv\u001b[39m\u001b[38;5;124m\"\u001b[39m, \u001b[38;5;124m\"\u001b[39m\u001b[38;5;124mdata/venues.csv\u001b[39m\u001b[38;5;124m\"\u001b[39m, \u001b[38;5;124m\"\u001b[39m\u001b[38;5;124mdata/constraints.json\u001b[39m\u001b[38;5;124m\"\u001b[39m)\n\u001b[0;32m----> 8\u001b[0m     final_population \u001b[38;5;241m=\u001b[39m \u001b[43mgenetic_algorithm\u001b[49m\u001b[43m(\u001b[49m\u001b[43mteams\u001b[49m\u001b[43m,\u001b[49m\u001b[43m \u001b[49m\u001b[43mvenues\u001b[49m\u001b[43m,\u001b[49m\u001b[43m \u001b[49m\u001b[43mconstraints\u001b[49m\u001b[43m)\u001b[49m\n\u001b[1;32m      9\u001b[0m     best_schedule \u001b[38;5;241m=\u001b[39m \u001b[38;5;28mmax\u001b[39m(final_population, key\u001b[38;5;241m=\u001b[39m\u001b[38;5;28;01mlambda\u001b[39;00m s: evaluate_fitness(s\u001b[38;5;241m.\u001b[39mschedule, constraints))\n\u001b[1;32m     10\u001b[0m     visualize_schedule(best_schedule)\n",
      "File \u001b[0;32m~/Documents/EA/src/ga/scheduler.py:12\u001b[0m, in \u001b[0;36mgenetic_algorithm\u001b[0;34m(teams, venues, constraints, generations, population_size)\u001b[0m\n\u001b[1;32m      8\u001b[0m population \u001b[38;5;241m=\u001b[39m [Schedule(teams, venues, constraints) \u001b[38;5;28;01mfor\u001b[39;00m _ \u001b[38;5;129;01min\u001b[39;00m \u001b[38;5;28mrange\u001b[39m(population_size)]\n\u001b[1;32m     10\u001b[0m \u001b[38;5;28;01mfor\u001b[39;00m generation \u001b[38;5;129;01min\u001b[39;00m \u001b[38;5;28mrange\u001b[39m(generations):\n\u001b[1;32m     11\u001b[0m     \u001b[38;5;66;03m# Evaluate fitness\u001b[39;00m\n\u001b[0;32m---> 12\u001b[0m     fitness_scores \u001b[38;5;241m=\u001b[39m [evaluate_fitness(ind\u001b[38;5;241m.\u001b[39mschedule, constraints) \u001b[38;5;28;01mfor\u001b[39;00m ind \u001b[38;5;129;01min\u001b[39;00m population]\n\u001b[1;32m     14\u001b[0m     \u001b[38;5;66;03m# Select parents\u001b[39;00m\n\u001b[1;32m     15\u001b[0m     selected \u001b[38;5;241m=\u001b[39m select_parents(population, fitness_scores)\n",
      "File \u001b[0;32m~/Documents/EA/src/ga/scheduler.py:12\u001b[0m, in \u001b[0;36m<listcomp>\u001b[0;34m(.0)\u001b[0m\n\u001b[1;32m      8\u001b[0m population \u001b[38;5;241m=\u001b[39m [Schedule(teams, venues, constraints) \u001b[38;5;28;01mfor\u001b[39;00m _ \u001b[38;5;129;01min\u001b[39;00m \u001b[38;5;28mrange\u001b[39m(population_size)]\n\u001b[1;32m     10\u001b[0m \u001b[38;5;28;01mfor\u001b[39;00m generation \u001b[38;5;129;01min\u001b[39;00m \u001b[38;5;28mrange\u001b[39m(generations):\n\u001b[1;32m     11\u001b[0m     \u001b[38;5;66;03m# Evaluate fitness\u001b[39;00m\n\u001b[0;32m---> 12\u001b[0m     fitness_scores \u001b[38;5;241m=\u001b[39m [\u001b[43mevaluate_fitness\u001b[49m\u001b[43m(\u001b[49m\u001b[43mind\u001b[49m\u001b[38;5;241;43m.\u001b[39;49m\u001b[43mschedule\u001b[49m\u001b[43m,\u001b[49m\u001b[43m \u001b[49m\u001b[43mconstraints\u001b[49m\u001b[43m)\u001b[49m \u001b[38;5;28;01mfor\u001b[39;00m ind \u001b[38;5;129;01min\u001b[39;00m population]\n\u001b[1;32m     14\u001b[0m     \u001b[38;5;66;03m# Select parents\u001b[39;00m\n\u001b[1;32m     15\u001b[0m     selected \u001b[38;5;241m=\u001b[39m select_parents(population, fitness_scores)\n",
      "File \u001b[0;32m~/Documents/EA/src/ga/fitness.py:164\u001b[0m, in \u001b[0;36mevaluate_fitness\u001b[0;34m(schedule, constraints)\u001b[0m\n\u001b[1;32m    161\u001b[0m score \u001b[38;5;241m=\u001b[39m \u001b[38;5;241m0\u001b[39m\n\u001b[1;32m    163\u001b[0m \u001b[38;5;66;03m# Example: Minimize venue conflicts\u001b[39;00m\n\u001b[0;32m--> 164\u001b[0m score \u001b[38;5;241m-\u001b[39m\u001b[38;5;241m=\u001b[39m \u001b[43mcount_venue_conflicts\u001b[49m\u001b[43m(\u001b[49m\u001b[43mschedule\u001b[49m\u001b[43m,\u001b[49m\u001b[43m \u001b[49m\u001b[43mconstraints\u001b[49m\u001b[43m)\u001b[49m\n\u001b[1;32m    166\u001b[0m \u001b[38;5;66;03m# Example: Ensure fair rest periods\u001b[39;00m\n\u001b[1;32m    167\u001b[0m score \u001b[38;5;241m-\u001b[39m\u001b[38;5;241m=\u001b[39m count_rest_violations(schedule, constraints)\n",
      "File \u001b[0;32m~/Documents/EA/src/ga/fitness.py:15\u001b[0m, in \u001b[0;36mcount_venue_conflicts\u001b[0;34m(schedule, constraints)\u001b[0m\n\u001b[1;32m     13\u001b[0m venue_day_map \u001b[38;5;241m=\u001b[39m {}\n\u001b[1;32m     14\u001b[0m \u001b[38;5;28;01mfor\u001b[39;00m match \u001b[38;5;129;01min\u001b[39;00m schedule:\n\u001b[0;32m---> 15\u001b[0m     _, _, venue_id, day, timeslot \u001b[38;5;241m=\u001b[39m match\n\u001b[1;32m     16\u001b[0m     \u001b[38;5;28;01mif\u001b[39;00m (venue_id, day) \u001b[38;5;129;01mnot\u001b[39;00m \u001b[38;5;129;01min\u001b[39;00m venue_day_map:\n\u001b[1;32m     17\u001b[0m         venue_day_map[(venue_id, day)] \u001b[38;5;241m=\u001b[39m []\n",
      "\u001b[0;31mTypeError\u001b[0m: cannot unpack non-iterable numpy.int64 object"
     ]
    }
   ],
   "source": [
    "# main.py\n",
    "from src.ga.scheduler import genetic_algorithm\n",
    "from src.utils.parser import parse_input_data\n",
    "from src.utils.visualizer import visualize_schedule\n",
    "from src.\n",
    "\n",
    "if __name__ == \"__main__\":\n",
    "    teams, venues, constraints = parse_input_data(\"data/teams.csv\", \"data/venues.csv\", \"data/constraints.json\")\n",
    "    final_population = genetic_algorithm(teams, venues, constraints)\n",
    "    best_schedule = max(final_population, key=lambda s: evaluate_fitness(s.schedule, constraints))\n",
    "    visualize_schedule(best_schedule)"
   ]
  }
 ],
 "metadata": {
  "kernelspec": {
   "display_name": "Python 3",
   "language": "python",
   "name": "python3"
  },
  "language_info": {
   "codemirror_mode": {
    "name": "ipython",
    "version": 3
   },
   "file_extension": ".py",
   "mimetype": "text/x-python",
   "name": "python",
   "nbconvert_exporter": "python",
   "pygments_lexer": "ipython3",
   "version": "3.9.6"
  }
 },
 "nbformat": 4,
 "nbformat_minor": 5
}
